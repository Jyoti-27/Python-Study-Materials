{
 "cells": [
  {
   "cell_type": "markdown",
   "metadata": {},
   "source": [
    "# Dictionaries\n",
    "- stores the data in the form of a 'key : value' pair\n",
    "- multiple and unique keys\n",
    "- value can be of any data type"
   ]
  },
  {
   "cell_type": "markdown",
   "metadata": {},
   "source": [
    "## Creating Dictionaries"
   ]
  },
  {
   "cell_type": "markdown",
   "metadata": {},
   "source": [
    "##### using {}"
   ]
  },
  {
   "cell_type": "code",
   "execution_count": 2,
   "metadata": {},
   "outputs": [
    {
     "name": "stdout",
     "output_type": "stream",
     "text": [
      "Dictionary 1 :  {}\n",
      "type of dictionary1:  <class 'dict'>\n"
     ]
    }
   ],
   "source": [
    "dictionary1 = {} # empty dictionary\n",
    "print(\"Dictionary 1 : \", dictionary1 )\n",
    "print('type of dictionary1: ', type(dictionary1))"
   ]
  },
  {
   "cell_type": "code",
   "execution_count": 3,
   "metadata": {},
   "outputs": [
    {
     "name": "stdout",
     "output_type": "stream",
     "text": [
      "Dictionary 2 :  {1: 'me', 2: 'my', 3: 'mine'}\n",
      "type of dictionary2:  <class 'dict'>\n"
     ]
    }
   ],
   "source": [
    "dictionary2 = {1: \"me\", 2: \"my\", 3: \"mine\"}\n",
    "print(\"Dictionary 2 : \", dictionary2 )\n",
    "print('type of dictionary2: ', type(dictionary2))"
   ]
  },
  {
   "cell_type": "markdown",
   "metadata": {},
   "source": [
    "#### using dict()"
   ]
  },
  {
   "cell_type": "code",
   "execution_count": 4,
   "metadata": {},
   "outputs": [
    {
     "name": "stdout",
     "output_type": "stream",
     "text": [
      "Dictionary 3 :  {'I': 'you', 'my': 'your', 'we': ['our', 'ourselves']}\n",
      "type(dictionary3):  <class 'dict'>\n"
     ]
    }
   ],
   "source": [
    "dictionary3 = dict({\"I\" : \"you\", \"my\" : \"your\", \"we\" : [\"our\",'ourselves'] })\n",
    "print(\"Dictionary 3 : \", dictionary3 )\n",
    "print('type(dictionary3): ', type(dictionary3))"
   ]
  },
  {
   "cell_type": "code",
   "execution_count": 8,
   "metadata": {},
   "outputs": [
    {
     "name": "stdout",
     "output_type": "stream",
     "text": [
      "Dictionary 4 :  {1: 'me', 2: 'my', 3: ('mine', 'myself')}\n",
      "type(dictionary4):  <class 'dict'>\n"
     ]
    }
   ],
   "source": [
    "dictionary4 = dict([(1, \"me\"), (2, \"my\"), (3 ,(\"mine\", 'myself'))])\n",
    "print(\"Dictionary 4 : \", dictionary4 )\n",
    "print('type(dictionary4): ', type(dictionary4))"
   ]
  },
  {
   "cell_type": "markdown",
   "metadata": {},
   "source": [
    "## Nested dictionaries"
   ]
  },
  {
   "cell_type": "code",
   "execution_count": 5,
   "metadata": {},
   "outputs": [
    {
     "name": "stdout",
     "output_type": "stream",
     "text": [
      "Dictionary 5 :  {'name': {'First': 'Jon', 'Last': 'Snow'}, 'House': 'Winterfell'}\n",
      "type(dictionary5):  <class 'dict'>\n"
     ]
    }
   ],
   "source": [
    "dictionary5 = {\"name\" : {\"First\" : \"Jon\" , \"Last\" : \"Snow\"} , \"House\" : \"Winterfell\"}\n",
    "print(\"Dictionary 5 : \", dictionary5 )\n",
    "print('type(dictionary5): ', type(dictionary5))"
   ]
  },
  {
   "cell_type": "markdown",
   "metadata": {},
   "source": [
    "## Accessing Elements of the dictionary\n",
    "- Syntax\n",
    "\n",
    "      dictionary_name[outer_key][inner_key_1]...[inner_key_n]"
   ]
  },
  {
   "cell_type": "code",
   "execution_count": 8,
   "metadata": {},
   "outputs": [
    {
     "name": "stdout",
     "output_type": "stream",
     "text": [
      "{1: 'me', 2: 'my', 3: 'mine'}\n",
      "dictionary2[1]:  me\n",
      "\n",
      " {'I': 'you', 'my': 'your', 'we': ['our', 'ourselves']}\n",
      "dictionary3['we']:  ['our', 'ourselves']\n"
     ]
    }
   ],
   "source": [
    "#accessing elements using key\n",
    "\n",
    "print(dictionary2)\n",
    "print(\"dictionary2[1]: \", dictionary2[1])\n",
    "\n",
    "print('\\n',dictionary3)\n",
    "print(\"dictionary3['we']: \", dictionary3['we'])"
   ]
  },
  {
   "cell_type": "code",
   "execution_count": 9,
   "metadata": {},
   "outputs": [
    {
     "name": "stdout",
     "output_type": "stream",
     "text": [
      "{'name': {'First': 'Jon', 'Last': 'Snow'}, 'House': 'Winterfell'}\n",
      "\n",
      "dictionary5['name']:  {'First': 'Jon', 'Last': 'Snow'}\n",
      "dictionary5['name']['First']:  Jon\n"
     ]
    }
   ],
   "source": [
    "print(dictionary5)\n",
    "\n",
    "print(\"\\ndictionary5['name']: \", dictionary5['name'])\n",
    "print(\"dictionary5['name']['First']: \", dictionary5['name']['First'])"
   ]
  },
  {
   "cell_type": "markdown",
   "metadata": {},
   "source": [
    "##### using get() method\n",
    "- Syntax\n",
    "\n",
    "       dictionary_name.get(key)"
   ]
  },
  {
   "cell_type": "code",
   "execution_count": 20,
   "metadata": {},
   "outputs": [
    {
     "name": "stdout",
     "output_type": "stream",
     "text": [
      "{'First': 'Jon', 'Last': 'Snow'}\n",
      "Winterfell\n"
     ]
    }
   ],
   "source": [
    "print(dictionary5.get('name'))\n",
    "print(dictionary5.get('House'))"
   ]
  },
  {
   "cell_type": "markdown",
   "metadata": {},
   "source": [
    "## Adding Elements to the dictionary\n",
    "- Syntax\n",
    "\n",
    "      dictionary_name[key] = value"
   ]
  },
  {
   "cell_type": "code",
   "execution_count": 22,
   "metadata": {},
   "outputs": [
    {
     "name": "stdout",
     "output_type": "stream",
     "text": [
      "dictionary2 :  {1: 'me', 2: 'my', 3: 'mine'}\n",
      "dictionary2 after adding elements : \n",
      " {1: 'me', 2: 'my', 3: 'mine', 4: 'myself'}\n"
     ]
    }
   ],
   "source": [
    "print('dictionary2 : ',dictionary2)\n",
    "\n",
    "#adding a key value pair\n",
    "dictionary2[4] = 'myself'\n",
    "print('dictionary2 after adding elements : \\n',dictionary2)"
   ]
  },
  {
   "cell_type": "code",
   "execution_count": 23,
   "metadata": {},
   "outputs": [
    {
     "name": "stdout",
     "output_type": "stream",
     "text": [
      "dictionary2 after adding elements: \n",
      " {1: 'me', 2: 'my', 3: 'mine', 4: 'myself', 5: ('me', 'my', 'mine', 'myself')}\n"
     ]
    }
   ],
   "source": [
    "dictionary2[5] = (\"me\" , \"my\" , \"mine\", 'myself') \n",
    "print('dictionary2 after adding elements: \\n',dictionary2)"
   ]
  },
  {
   "cell_type": "markdown",
   "metadata": {},
   "source": [
    "## Updating Elements\n",
    "- Syntax\n",
    " \n",
    "      dictionary_name[existing_key] = value_to_be_updated"
   ]
  },
  {
   "cell_type": "code",
   "execution_count": 24,
   "metadata": {},
   "outputs": [
    {
     "name": "stdout",
     "output_type": "stream",
     "text": [
      "dictionary5 :  {'name': {'First': 'Jon', 'Last': 'Snow'}, 'House': 'Winterfell'}\n",
      "dictionary5 after updation:  {'name': {'First': 'Jon', 'Last': 'Snow'}, 'House': {'Name': 'Winterfell', 'Owner': 'Ned Stark'}}\n"
     ]
    }
   ],
   "source": [
    "#Updating Elements\n",
    "print('dictionary5 : ',dictionary5)\n",
    "\n",
    "#updating the elements of House key\n",
    "dictionary5[\"House\"] = {\"Name\" : \"Winterfell\" , \"Owner\" : \"Ned Stark\"} \n",
    "print('dictionary5 after updation: ',dictionary5)"
   ]
  },
  {
   "cell_type": "code",
   "execution_count": 25,
   "metadata": {},
   "outputs": [
    {
     "name": "stdout",
     "output_type": "stream",
     "text": [
      "dictionary5 after further updation: \n",
      " {'name': {'First': 'Jon', 'Last': 'Snow'}, 'House': {'Name': 'Winterfell', 'Owner': ('Ned Stark', 'Catelyn Stark')}}\n"
     ]
    }
   ],
   "source": [
    "#updating the value of owner in house key\n",
    "dictionary5['House']['Owner'] = ('Ned Stark' , 'Catelyn Stark')\n",
    "print('dictionary5 after further updation: \\n',dictionary5)"
   ]
  },
  {
   "cell_type": "markdown",
   "metadata": {},
   "source": [
    "## Deleting Elements"
   ]
  },
  {
   "cell_type": "code",
   "execution_count": 26,
   "metadata": {},
   "outputs": [
    {
     "data": {
      "text/plain": [
       "{'name': {'First': 'Jon', 'Last': 'Snow'},\n",
       " 'House': {'Name': 'Winterfell', 'Owner': ('Ned Stark', 'Catelyn Stark')}}"
      ]
     },
     "execution_count": 26,
     "metadata": {},
     "output_type": "execute_result"
    }
   ],
   "source": [
    "dictionary5"
   ]
  },
  {
   "cell_type": "code",
   "execution_count": 27,
   "metadata": {},
   "outputs": [
    {
     "data": {
      "text/plain": [
       "{'name': {'Last': 'Snow'},\n",
       " 'House': {'Name': 'Winterfell', 'Owner': ('Ned Stark', 'Catelyn Stark')}}"
      ]
     },
     "execution_count": 27,
     "metadata": {},
     "output_type": "execute_result"
    }
   ],
   "source": [
    "# Deleting the key value pair in nested dictionary\n",
    "del dictionary5['name']['First']\n",
    "dictionary5"
   ]
  },
  {
   "cell_type": "code",
   "execution_count": 29,
   "metadata": {},
   "outputs": [
    {
     "name": "stdout",
     "output_type": "stream",
     "text": [
      "{1: 'me', 2: 'my', 3: 'mine', 4: 'myself', 5: ('me', 'my', 'mine', 'myself')}\n",
      "me\n"
     ]
    }
   ],
   "source": [
    "print(dictionary2)\n",
    "print(dictionary2.pop(1))"
   ]
  },
  {
   "cell_type": "code",
   "execution_count": 30,
   "metadata": {},
   "outputs": [
    {
     "name": "stdout",
     "output_type": "stream",
     "text": [
      "Dictionary after deleting element: {2: 'my', 3: 'mine', 4: 'myself'}\n"
     ]
    }
   ],
   "source": [
    "#Deleting the last element of the dictionary\n",
    "dictionary2.popitem()\n",
    "print('Dictionary after deleting element:',dictionary2)"
   ]
  },
  {
   "cell_type": "markdown",
   "metadata": {},
   "source": [
    "## Using in-built functions"
   ]
  },
  {
   "cell_type": "code",
   "execution_count": 34,
   "metadata": {},
   "outputs": [
    {
     "name": "stdout",
     "output_type": "stream",
     "text": [
      "{2: 'my', 3: 'mine', 4: 'myself'}\n"
     ]
    },
    {
     "data": {
      "text/plain": [
       "dict_values(['my', 'mine', 'myself'])"
      ]
     },
     "execution_count": 34,
     "metadata": {},
     "output_type": "execute_result"
    }
   ],
   "source": [
    "print(dictionary2)\n",
    "\n",
    "#it gives all the values in dictionary\n",
    "dictionary2.values()"
   ]
  },
  {
   "cell_type": "code",
   "execution_count": 39,
   "metadata": {},
   "outputs": [
    {
     "data": {
      "text/plain": [
       "dict_items([(2, 'my'), (3, 'mine'), (4, 'myself')])"
      ]
     },
     "execution_count": 39,
     "metadata": {},
     "output_type": "execute_result"
    }
   ],
   "source": [
    "#it returns a list containing a tuple for each key value pair\n",
    "dictionary2.items()"
   ]
  },
  {
   "cell_type": "code",
   "execution_count": 35,
   "metadata": {},
   "outputs": [
    {
     "name": "stdout",
     "output_type": "stream",
     "text": [
      "{'b': [1, 2, 3], 'a': [1, 2, 3], 'd': [1, 2, 3], 'c': [1, 2, 3]}\n",
      "{1: {'b', 'a', 'd', 'c'}, 2: {'b', 'a', 'd', 'c'}, 3: {'b', 'a', 'd', 'c'}}\n"
     ]
    }
   ],
   "source": [
    "keys = {'a','b','c','d'}\n",
    "value = [1,2,3]\n",
    "\n",
    "#this will take keys as keys and value as values and returns as dictionary\n",
    "print(dict.fromkeys(keys,value))\n",
    "\n",
    "#this will take value as keys and keys as values and returns a dictionary\n",
    "print(dict.fromkeys(value, keys))"
   ]
  },
  {
   "cell_type": "code",
   "execution_count": 38,
   "metadata": {},
   "outputs": [
    {
     "name": "stdout",
     "output_type": "stream",
     "text": [
      "{2: 'my', 3: 'mine', 4: 'myself'}\n",
      "{2: 'my', 3: 'mine', 4: 'myself'}\n"
     ]
    }
   ],
   "source": [
    "#it creates a copy of dictionary\n",
    "dict_copy=dictionary2.copy()\n",
    "print(dictionary2)\n",
    "print(dict_copy)"
   ]
  },
  {
   "cell_type": "code",
   "execution_count": 42,
   "metadata": {},
   "outputs": [
    {
     "data": {
      "text/plain": [
       "{}"
      ]
     },
     "execution_count": 42,
     "metadata": {},
     "output_type": "execute_result"
    }
   ],
   "source": [
    "#it clears the elements of the dictionary and returns empty dictionary\n",
    "dict_copy.clear()\n",
    "dict_copy"
   ]
  },
  {
   "cell_type": "code",
   "execution_count": null,
   "metadata": {},
   "outputs": [],
   "source": []
  }
 ],
 "metadata": {
  "kernelspec": {
   "display_name": "Python 3",
   "language": "python",
   "name": "python3"
  },
  "language_info": {
   "codemirror_mode": {
    "name": "ipython",
    "version": 3
   },
   "file_extension": ".py",
   "mimetype": "text/x-python",
   "name": "python",
   "nbconvert_exporter": "python",
   "pygments_lexer": "ipython3",
   "version": "3.7.6"
  }
 },
 "nbformat": 4,
 "nbformat_minor": 2
}
